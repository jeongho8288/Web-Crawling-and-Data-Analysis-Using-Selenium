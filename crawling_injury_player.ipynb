{
 "cells": [
  {
   "cell_type": "code",
   "execution_count": 1,
   "id": "9b076d72",
   "metadata": {},
   "outputs": [],
   "source": [
    "import pandas as pd\n",
    "from selenium import webdriver\n",
    "from bs4 import BeautifulSoup\n",
    "import time\n",
    "import pandas as pd\n",
    "\n",
    "browser = webdriver.Chrome()\n",
    "url = 'https://www.cbssports.com/nba/injuries/'\n",
    "browser.get(url)\n",
    "time.sleep(1)\n",
    "soup = BeautifulSoup(browser.page_source, 'html.parser')"
   ]
  },
  {
   "cell_type": "code",
   "execution_count": 2,
   "id": "d075e6d1",
   "metadata": {},
   "outputs": [],
   "source": [
    "injury_player_results = []\n",
    "injury_data_list = soup.select('div.TableBaseWrapper')\n",
    "\n",
    "for injury_data in injury_data_list:\n",
    "    team = injury_data.select('span.TeamName > a')[0].text\n",
    "    for i in range(len(injury_data.select('tbody > tr'))):\n",
    "        injury_p = injury_data.select('tbody > tr')[i]\n",
    "        name = injury_p.select('span.CellPlayerName--long > span > a')[0].text\n",
    "        position = injury_p.select('td.TableBase-bodyTd')[1].text.strip()\n",
    "        update_date = injury_p.select('td.TableBase-bodyTd')[2].text.strip()\n",
    "        injury = injury_p.select('td.TableBase-bodyTd')[3].text.strip()\n",
    "        injury_status = injury_p.select('td.TableBase-bodyTd')[4].text.strip()\n",
    "\n",
    "        data = [team, name, position, update_date, injury, injury_status]\n",
    "        injury_player_results.append(data)"
   ]
  },
  {
   "cell_type": "code",
   "execution_count": 4,
   "id": "25eaa4e3",
   "metadata": {},
   "outputs": [],
   "source": [
    "df_injury_player = pd.DataFrame(injury_player_results)\n",
    "df_injury_player.columns = ['team', 'player', 'position' ,'update_date', 'injury', 'injury_status']\n",
    "# browser.close()\n",
    "df_injury_player.to_csv('./injury_player.csv', index = False)"
   ]
  }
 ],
 "metadata": {
  "kernelspec": {
   "display_name": "Python 3 (ipykernel)",
   "language": "python",
   "name": "python3"
  },
  "language_info": {
   "codemirror_mode": {
    "name": "ipython",
    "version": 3
   },
   "file_extension": ".py",
   "mimetype": "text/x-python",
   "name": "python",
   "nbconvert_exporter": "python",
   "pygments_lexer": "ipython3",
   "version": "3.11.4"
  }
 },
 "nbformat": 4,
 "nbformat_minor": 5
}
