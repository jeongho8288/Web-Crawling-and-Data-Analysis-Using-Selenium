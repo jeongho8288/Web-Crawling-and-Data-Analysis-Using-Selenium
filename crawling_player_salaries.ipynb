{
 "cells": [
  {
   "cell_type": "code",
   "execution_count": 9,
   "id": "14e6a414",
   "metadata": {},
   "outputs": [],
   "source": [
    "from selenium import webdriver\n",
    "from bs4 import BeautifulSoup\n",
    "import time\n",
    "import pandas as pd\n",
    "\n",
    "browser = webdriver.Chrome()\n",
    "url = 'https://hoopshype.com/salaries/players/'\n",
    "browser.get(url)\n",
    "time.sleep(1)"
   ]
  },
  {
   "cell_type": "code",
   "execution_count": 11,
   "id": "960f66b4",
   "metadata": {},
   "outputs": [
    {
     "name": "stdout",
     "output_type": "stream",
     "text": [
      "                  name  salaries($)\n",
      "0        Stephen Curry     51915615\n",
      "1         Kevin Durant     47649433\n",
      "2         Nikola Jokic     47607350\n",
      "3         LeBron James     47607350\n",
      "4          Joel Embiid     47607350\n",
      "..                 ...          ...\n",
      "545       Nerlens Noel       300000\n",
      "546       Didi Louzada       268032\n",
      "547  Demetrius Jackson        92857\n",
      "548      Edmond Sumner        40459\n",
      "549       Kaiser Gates        35389\n",
      "\n",
      "[550 rows x 2 columns]\n"
     ]
    }
   ],
   "source": [
    "soup = BeautifulSoup(browser.page_source, 'html.parser')\n",
    "\n",
    "player_name_list = soup.select('div.table-wrapper > div.pinned > table > tbody > tr')\n",
    "\n",
    "results_sal = []\n",
    "\n",
    "for player_name in player_name_list:    \n",
    "    name = player_name.select('td.name > a')[0].text.strip()\n",
    "    salaries = player_name.select('td.hh-salaries-sorted')[0].text.replace(',', '').strip()[1:]\n",
    "    data = [name, salaries]\n",
    "    results_sal.append(data)\n",
    "df_sal = pd.DataFrame(results_sal)\n",
    "df_sal.columns = ['name', 'salaries($)']\n",
    "df_sal['salaries($)'] = df_sal['salaries($)'].astype(int)\n",
    "# browser.close()\n",
    "\n",
    "print(df_sal)\n",
    "\n",
    "df_sal.to_csv('./player_salaries.csv', index = False)"
   ]
  }
 ],
 "metadata": {
  "kernelspec": {
   "display_name": "Python 3 (ipykernel)",
   "language": "python",
   "name": "python3"
  },
  "language_info": {
   "codemirror_mode": {
    "name": "ipython",
    "version": 3
   },
   "file_extension": ".py",
   "mimetype": "text/x-python",
   "name": "python",
   "nbconvert_exporter": "python",
   "pygments_lexer": "ipython3",
   "version": "3.11.4"
  }
 },
 "nbformat": 4,
 "nbformat_minor": 5
}
