{
 "cells": [
  {
   "cell_type": "code",
   "execution_count": 1,
   "id": "89f49e5a",
   "metadata": {},
   "outputs": [],
   "source": [
    "import pandas as pd\n",
    "from selenium import webdriver\n",
    "from bs4 import BeautifulSoup\n",
    "import time\n",
    "import numpy as np\n",
    "import pandas as pd\n",
    "from datetime import datetime, timedelta\n",
    "\n",
    "#브라우저 열기\n",
    "browser = webdriver.Chrome()\n",
    "\n",
    "# 빈 리스트 생성\n",
    "results_hot_player = []\n",
    "# 현재 시각 가져오기\n",
    "current_date = datetime.now()\n",
    "# 18시간 빼기\n",
    "adjusted_date = current_date - timedelta(hours=18)\n",
    "\n",
    "year = adjusted_date.year\n",
    "month = adjusted_date.month\n",
    "day = adjusted_date.day\n",
    "today = int(f'{year}{month}{day}')\n",
    "# \"\"\"최근 5일 경기중 팀중에서 제일 핫한 선수들 수집\"\"\"\n",
    "date = [today-1,today-2,today-3,today-4,today-5]"
   ]
  },
  {
   "cell_type": "code",
   "execution_count": 2,
   "id": "fdab3817",
   "metadata": {},
   "outputs": [],
   "source": [
    "# 정보수집\n",
    "for i in date:\n",
    "    url = f'https://www.cbssports.com/nba/scoreboard/{i}/'\n",
    "    browser.get(url)\n",
    "    time.sleep(1)\n",
    "\n",
    "    soup = BeautifulSoup(browser.page_source, 'html.parser')\n",
    "\n",
    "    today_game_list = soup.select('div.score-card-container > div > div > div.live-update')\n",
    "\n",
    "    for game_list in today_game_list:\n",
    "        date = soup.select('#ToggleContainer-buttons-button-2 > a')[0].text.strip()\n",
    "        game_list = game_list.select('div.section.team-player-stats.basketball > table > tbody >tr')\n",
    "        for i in range(len(game_list)):\n",
    "            best_player = game_list[i]\n",
    "            name = best_player.select('span > a')[0].text\n",
    "            team = best_player.select('span.player-team')[0].text\n",
    "            position = best_player.select('span.player-position')[0].text\n",
    "            stat = best_player.select('span')[3].text.split(',')\n",
    "            if(len(stat) == 1):\n",
    "                PTS = stat[0].strip()[:-4]\n",
    "            if(len(stat) == 2):\n",
    "                PTS = stat[0].strip()[:-4]\n",
    "                REB = stat[1].strip()[:-4]\n",
    "            elif(len(stat) == 3):\n",
    "                PTS = stat[0].strip()[:-4]\n",
    "                REB = stat[1].strip()[:-4]\n",
    "                AST = stat[2].strip()[:-4]\n",
    "            data = [date, name, team, position, PTS, REB, AST]\n",
    "            results_hot_player.append(data)"
   ]
  },
  {
   "cell_type": "code",
   "execution_count": 4,
   "id": "219844cc",
   "metadata": {},
   "outputs": [],
   "source": [
    "df_hot_player = pd.DataFrame(results_hot_player)\n",
    "df_hot_player.columns = ['date', 'player', 'team', 'position' ,'PTS', 'REB', 'AST']\n",
    "#     browser.close()\n",
    "df_hot_player.to_csv('./hot_players.csv', index = False)"
   ]
  }
 ],
 "metadata": {
  "kernelspec": {
   "display_name": "Python 3 (ipykernel)",
   "language": "python",
   "name": "python3"
  },
  "language_info": {
   "codemirror_mode": {
    "name": "ipython",
    "version": 3
   },
   "file_extension": ".py",
   "mimetype": "text/x-python",
   "name": "python",
   "nbconvert_exporter": "python",
   "pygments_lexer": "ipython3",
   "version": "3.11.4"
  }
 },
 "nbformat": 4,
 "nbformat_minor": 5
}
